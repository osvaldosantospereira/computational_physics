{
 "cells": [
  {
   "cell_type": "code",
   "execution_count": 2,
   "id": "acec4bee",
   "metadata": {
    "ExecuteTime": {
     "end_time": "2025-02-02T01:39:57.196578Z",
     "start_time": "2025-02-02T01:39:57.192575Z"
    }
   },
   "outputs": [],
   "source": [
    "import numpy as np\n",
    "\n",
    "def log_bin_data(data, num_bins=10, base=np.e):\n",
    "    \"\"\"\n",
    "    Perform logarithmic binning on the input data.\n",
    "\n",
    "    Parameters:\n",
    "    - data (array-like): The input data values to be binned.\n",
    "    - num_bins (int): The number of logarithmic bins to create.\n",
    "    - base (float): The logarithm base for bin spacing (default is natural log, e).\n",
    "\n",
    "    Returns:\n",
    "    - bin_edges (numpy array): The edges of the bins.\n",
    "    - bin_counts (numpy array): The counts of values in each bin.\n",
    "    \"\"\"\n",
    "    data = np.asarray(data)\n",
    "    data = data[data > 0]  # Ensure all values are positive since log is undefined for non-positive values\n",
    "\n",
    "    # Define logarithmically spaced bin edges\n",
    "    min_val, max_val = np.min(data), np.max(data)\n",
    "    bin_edges = np.logspace(np.log(min_val) / np.log(base), np.log(max_val) / np.log(base), num_bins + 1, base=base)\n",
    "\n",
    "    # Compute histogram\n",
    "    bin_counts, _ = np.histogram(data, bins=bin_edges)\n",
    "\n",
    "    return bin_edges, bin_counts\n",
    "\n",
    "# Example usage:\n",
    "data = np.random.lognormal(mean=1, sigma=1, size=1000)  # Example log-normal distributed data\n",
    "bin_edges, bin_counts = log_bin_data(data, num_bins=20, base=10)"
   ]
  }
 ],
 "metadata": {
  "hide_input": false,
  "kernelspec": {
   "display_name": "Python 3 (ipykernel)",
   "language": "python",
   "name": "python3"
  },
  "language_info": {
   "codemirror_mode": {
    "name": "ipython",
    "version": 3
   },
   "file_extension": ".py",
   "mimetype": "text/x-python",
   "name": "python",
   "nbconvert_exporter": "python",
   "pygments_lexer": "ipython3",
   "version": "3.9.13"
  },
  "toc": {
   "base_numbering": 1,
   "nav_menu": {},
   "number_sections": true,
   "sideBar": true,
   "skip_h1_title": false,
   "title_cell": "Table of Contents",
   "title_sidebar": "Contents",
   "toc_cell": false,
   "toc_position": {},
   "toc_section_display": true,
   "toc_window_display": false
  },
  "varInspector": {
   "cols": {
    "lenName": 16,
    "lenType": 16,
    "lenVar": 40
   },
   "kernels_config": {
    "python": {
     "delete_cmd_postfix": "",
     "delete_cmd_prefix": "del ",
     "library": "var_list.py",
     "varRefreshCmd": "print(var_dic_list())"
    },
    "r": {
     "delete_cmd_postfix": ") ",
     "delete_cmd_prefix": "rm(",
     "library": "var_list.r",
     "varRefreshCmd": "cat(var_dic_list()) "
    }
   },
   "types_to_exclude": [
    "module",
    "function",
    "builtin_function_or_method",
    "instance",
    "_Feature"
   ],
   "window_display": false
  }
 },
 "nbformat": 4,
 "nbformat_minor": 5
}
